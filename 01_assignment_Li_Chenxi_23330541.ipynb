{
  "cells": [
    {
      "cell_type": "markdown",
      "id": "4835e7f8-2fb7-4f59-8337-55b5e19cd728",
      "metadata": {},
      "source": [
        "#"
      ]
    },
    {
      "cell_type": "code",
      "execution_count": 1,
      "id": "f7a829d4-d174-4d61-8337-0c10de57f913",
      "metadata": {
        "slideshow": {
          "slide_type": "skip"
        },
        "vscode": {
          "languageId": "r"
        }
      },
      "outputs": [],
      "source": [
        "options(jupyter.rich_display = FALSE)"
      ]
    },
    {
      "cell_type": "markdown",
      "id": "7ef7adea-21c6-4e2c-86cd-bfba56b372af",
      "metadata": {},
      "source": [
        "# Assignment 1: R Basics and Control Flow\n",
        "\n",
        "## POP77001 Computer Programming for Social Scientists\n",
        "\n",
        "## Before Submission\n",
        "\n",
        "-   Make sure that you can run all cells without errors\n",
        "-   You can do it by clicking `Kernel`, `Restart & Run All` in the menu\n",
        "    above\n",
        "-   Make sure that you save the output by pressing Command+S / CTRL+S\n",
        "-   Rename the file from `01_assignment.ipynb` to\n",
        "    `01_assignment_lastname_firstname_studentnumber.ipynb`\n",
        "-   Use Firefox browser for submitting your Jupyter notebook on\n",
        "    Blackboard.\n",
        "\n",
        "## Exercise 1: Subsetting\n",
        "\n",
        "Write 5 separate subsetting operations to extract the following elements\n",
        "from the list below: - All consonants from the first character vector; -\n",
        "Second columns in all dimensions from the array `A`; - Odd rows from the\n",
        "matrix `M`; - P-value from the results of t-test `test`; - Estimates of\n",
        "the 3 coefficients from the linear regression fit `model`.\n",
        "\n",
        "Tip: Use `str()` function to inspect the structure of R objects."
      ]
    },
    {
      "cell_type": "code",
      "execution_count": 2,
      "id": "b2ba3363-7b80-4deb-abed-f7ddf480a7d4",
      "metadata": {
        "slideshow": {
          "slide_type": "fragment"
        },
        "vscode": {
          "languageId": "r"
        }
      },
      "outputs": [],
      "source": [
        "set.seed(2023)\n",
        "l <- list(\n",
        "  mapply(assign, letters, 1:26),\n",
        "  A = array(1:60, c(5,2,3)),\n",
        "  M = matrix(1:50, c(10,5)),\n",
        "  test = t.test(rnorm(100, -1), rnorm(100, 2)),\n",
        "  model = lm(\n",
        "    y ~ x + z,\n",
        "    data = list(y = rnorm(100), x = rnorm(100), z = rnorm(100))\n",
        "  )\n",
        ")"
      ]
    },
    {
      "cell_type": "code",
      "execution_count": 4,
      "id": "de0b13da-8270-4ecc-ad2a-3258c3494b43",
      "metadata": {
        "slideshow": {
          "slide_type": "fragment"
        },
        "vscode": {
          "languageId": "r"
        }
      },
      "outputs": [
        {
          "data": {
            "text/plain": [
              "[[1]]\n",
              " a  b  c  d  e  f  g  h  i  j  k  l  m  n  o  p  q  r  s  t  u  v  w  x  y  z \n",
              " 1  2  3  4  5  6  7  8  9 10 11 12 13 14 15 16 17 18 19 20 21 22 23 24 25 26 \n",
              "\n",
              "$A\n",
              ", , 1\n",
              "\n",
              "     [,1] [,2]\n",
              "[1,]    1    6\n",
              "[2,]    2    7\n",
              "[3,]    3    8\n",
              "[4,]    4    9\n",
              "[5,]    5   10\n",
              "\n",
              ", , 2\n",
              "\n",
              "     [,1] [,2]\n",
              "[1,]   11   16\n",
              "[2,]   12   17\n",
              "[3,]   13   18\n",
              "[4,]   14   19\n",
              "[5,]   15   20\n",
              "\n",
              ", , 3\n",
              "\n",
              "     [,1] [,2]\n",
              "[1,]   21   26\n",
              "[2,]   22   27\n",
              "[3,]   23   28\n",
              "[4,]   24   29\n",
              "[5,]   25   30\n",
              "\n",
              "\n",
              "$M\n",
              "      [,1] [,2] [,3] [,4] [,5]\n",
              " [1,]    1   11   21   31   41\n",
              " [2,]    2   12   22   32   42\n",
              " [3,]    3   13   23   33   43\n",
              " [4,]    4   14   24   34   44\n",
              " [5,]    5   15   25   35   45\n",
              " [6,]    6   16   26   36   46\n",
              " [7,]    7   17   27   37   47\n",
              " [8,]    8   18   28   38   48\n",
              " [9,]    9   19   29   39   49\n",
              "[10,]   10   20   30   40   50\n",
              "\n",
              "$test\n",
              "\n",
              "\tWelch Two Sample t-test\n",
              "\n",
              "data:  rnorm(100, -1) and rnorm(100, 2)\n",
              "t = -23.01, df = 197.32, p-value < 2.2e-16\n",
              "alternative hypothesis: true difference in means is not equal to 0\n",
              "95 percent confidence interval:\n",
              " -3.409934 -2.871587\n",
              "sample estimates:\n",
              " mean of x  mean of y \n",
              "-0.9324817  2.2082786 \n",
              "\n",
              "\n",
              "$model\n",
              "\n",
              "Call:\n",
              "lm(formula = y ~ x + z, data = list(y = rnorm(100), x = rnorm(100), \n",
              "    z = rnorm(100)))\n",
              "\n",
              "Coefficients:\n",
              "(Intercept)            x            z  \n",
              "   -0.16453     -0.08070     -0.03881  \n",
              "\n"
            ]
          },
          "metadata": {},
          "output_type": "display_data"
        }
      ],
      "source": [
        "l"
      ]
    },
    {
      "cell_type": "code",
      "execution_count": 5,
      "id": "44a078d0-a401-49c6-9a0d-ab798d73f766",
      "metadata": {
        "slideshow": {
          "slide_type": "fragment"
        },
        "vscode": {
          "languageId": "r"
        }
      },
      "outputs": [
        {
          "name": "stdout",
          "output_type": "stream",
          "text": [
            " b  c  d  f  g  h  j  k  l  m  n  p  q  r  s  t  v  w  x  y  z \n",
            " 2  3  4  6  7  8 10 11 12 13 14 16 17 18 19 20 22 23 24 25 26 \n",
            ", , 1\n",
            "\n",
            "     [,1]\n",
            "[1,]    6\n",
            "[2,]    7\n",
            "[3,]    8\n",
            "[4,]    9\n",
            "[5,]   10\n",
            "\n",
            ", , 2\n",
            "\n",
            "     [,1]\n",
            "[1,]   16\n",
            "[2,]   17\n",
            "[3,]   18\n",
            "[4,]   19\n",
            "[5,]   20\n",
            "\n",
            ", , 3\n",
            "\n",
            "     [,1]\n",
            "[1,]   26\n",
            "[2,]   27\n",
            "[3,]   28\n",
            "[4,]   29\n",
            "[5,]   30\n",
            "\n",
            "     [,1] [,2] [,3] [,4] [,5]\n",
            "[1,]    1   11   21   31   41\n",
            "[2,]    3   13   23   33   43\n",
            "[3,]    5   15   25   35   45\n",
            "[4,]    7   17   27   37   47\n",
            "[5,]    9   19   29   39   49\n"
          ]
        },
        {
          "name": "stdout",
          "output_type": "stream",
          "text": [
            "[1] 3.582517e-53\n",
            "[1] \"The 3 coefficients from the model are printed below: \"\n",
            "               Estimate Std. Error    t value  Pr(>|t|)\n",
            "(Intercept) -0.16453134 0.10020225 -1.6419924 0.1038299\n",
            "x           -0.08069619 0.09952588 -0.8108061 0.4194620\n",
            "z           -0.03880831 0.10584141 -0.3666647 0.7146677\n"
          ]
        }
      ],
      "source": [
        "# Exercise 1:\n",
        "\n",
        "# Your code goes here\n",
        "\n",
        "# - All consonants from the first character vector\n",
        "first_vector <- l[[1]] # Extract the vector from l\n",
        "all_consonants <- first_vector[-c(1, 5, 9, 15, 21)] # Eliminate 5 vowels\n",
        "print(all_consonants) # Print all consonants\n",
        "\n",
        "# - Second columns in all dimensions from the array `A`\n",
        "second_array <- l[[2]] # Extract the array from l\n",
        "second_columns <- second_array[ , 2, , drop = FALSE] # Extract the 2nd columns\n",
        "print(second_columns) # Print the second columns\n",
        "\n",
        "# - Odd rows from the matrix `M`\n",
        "third_matrix <- l[[3]] # Extract the matrix from l\n",
        "\n",
        "row_number <- 1 : nrow(third_matrix) # Get the number of rows in the matrix\n",
        "odd_number <- row_number[row_number %% 2 == 1] # Get odd number in upper vector\n",
        "\n",
        "odd_row <- third_matrix[odd_number, ] # Extract the odd rows from the matrix\n",
        "print(odd_row) # Print the odd rows\n",
        "\n",
        "# - P-value from the results of t-test `test`\n",
        "n1 <- 100 ; n2 <- 100 # According to the code, the amount are both 100\n",
        "mean1 <- -1 ; mean2 <- 2 # According to the code, x bar1 is -1, and x bar2 is 2\n",
        "sd1 <- 1 ; sd2 <- 1 # According to the code, the sd are both 1\n",
        "\n",
        "se <- sqrt((sd1^2 / n1) + (sd2^2 / n2)) # Calculate the standard error\n",
        "t_value <- (mean1 - mean2) / se # Calcuate the t value\n",
        "p_value <- pt(t_value, df <- n1 + n2 - 2) # Calculate p value in df n1+n2-2\n",
        "print(p_value) # Print the p value\n",
        "\n",
        "# - Estimates of the 3 coefficients from the linear regression fit `model`\n",
        "\n",
        "regression_model <- l[[5]] # Extract the regression model from l\n",
        "print(\"The 3 coefficients from the model are printed below: \")\n",
        "print(summary(regression_model)$coefficients)"
      ]
    },
    {
      "cell_type": "markdown",
      "id": "cd08edbe-277d-4cc9-b2db-cfb12b5c4a57",
      "metadata": {},
      "source": [
        "## Exercise 2: Working with Vectors\n",
        "\n",
        "Look at the vector below. What is its type? Convert it into numeric.\n",
        "Note that some values get missing due to letter `o` used instead of\n",
        "digit `0`. What proportion of the vector elements did we fail to convert\n",
        "correctly? Now let us fix this issue. Using either subsetting and\n",
        "assignment or `ifelse()` function replace all `NA`s in the converted\n",
        "numeric vector into `0` (zeros)."
      ]
    },
    {
      "cell_type": "code",
      "execution_count": 6,
      "id": "6effb3c3-33f8-4f3f-b5ad-70b6d881e4f9",
      "metadata": {
        "slideshow": {
          "slide_type": "fragment"
        },
        "vscode": {
          "languageId": "r"
        }
      },
      "outputs": [],
      "source": [
        "set.seed(2023)\n",
        "vec <- sample(c(\"1\", \"0\", \"o\"), size = 100, replace = TRUE)"
      ]
    },
    {
      "cell_type": "code",
      "execution_count": 7,
      "id": "d4eb828b-6de0-4bbd-abd8-89f7c0b30118",
      "metadata": {
        "slideshow": {
          "slide_type": "fragment"
        },
        "vscode": {
          "languageId": "r"
        }
      },
      "outputs": [
        {
          "name": "stdout",
          "output_type": "stream",
          "text": [
            "[1] \"The type of the vector is character\"\n"
          ]
        },
        {
          "name": "stderr",
          "output_type": "stream",
          "text": [
            "Warning message in eval(expr, envir, enclos):\n",
            "\"NAs introduced by coercion\"\n"
          ]
        },
        {
          "name": "stdout",
          "output_type": "stream",
          "text": [
            "[1] \"The type of the new vector is double\"\n",
            "[1] \"We fail to convert 29 % of vector elements correctly\"\n",
            "  [1] 1 0 1 0 0 0 1 1 1 1 1 1 1 0 0 0 0 1 1 1 0 1 0 0 0 0 1 1 0 0 0 0 0 0 1 1 0\n",
            " [38] 0 1 0 0 0 0 0 0 0 0 1 1 0 0 1 1 0 0 1 0 0 1 0 0 0 1 1 0 0 0 0 0 0 0 1 0 0\n",
            " [75] 1 0 0 0 1 1 0 0 0 0 1 0 0 0 1 1 1 1 0 0 1 0 0 0 0 0\n"
          ]
        }
      ],
      "source": [
        "# Exercise 2:\n",
        "\n",
        "# Your code goes here\n",
        "\n",
        "# This code is to confirm the type of vector\n",
        "print(paste(\"The type of the vector is\", typeof(vec))) # Print type of vector\n",
        "\n",
        "# These codes are to convert the type of vector\n",
        "numeric_vec <- as.numeric(vec) # Convert the type of vector into numeric\n",
        "print(paste(\"The type of the new vector is\",\n",
        "            typeof(numeric_vec))) # Print type of vector\n",
        "\n",
        "# These codes are to make sure the proportion of NA\n",
        "# Because \"NA == NA\" is NA, so I use \"!= 1 & != 0\" to extract NA in vector\n",
        "na_vector <- numeric_vec[numeric_vec != 1 & numeric_vec != 0]\n",
        "print(paste(\"We fail to convert\",\n",
        "            length(na_vector),\n",
        "            \"% of vector elements correctly\")) # Print the NA proportion\n",
        "\n",
        "# These codes are to convert NA into 0\n",
        "numeric_vec[is.na(numeric_vec)] <- 0 # Locate NA in vector and transfer into 0\n",
        "print(numeric_vec) # Print the vector and check\n"
      ]
    },
    {
      "cell_type": "markdown",
      "id": "00e76e66-3a8f-4d23-9a8a-bdf944b7b98b",
      "metadata": {},
      "source": [
        "## Exercise 3: Vectorized Operations\n",
        "\n",
        "Using function `mean()` calculate the percentage of book titles in the\n",
        "vector below that have more than 10 characters in them (including\n",
        "whitespaces).\n",
        "\n",
        "Replace titles that are longer than 15 characters with `\"Long Title\"`.\n",
        "\n",
        "Tip: You can use `nchar()` function to calculate the number of\n",
        "characters in a vector"
      ]
    },
    {
      "cell_type": "code",
      "execution_count": 8,
      "id": "eadde6fa-4e23-41b9-9295-abe4f1653563",
      "metadata": {
        "slideshow": {
          "slide_type": "fragment"
        },
        "vscode": {
          "languageId": "r"
        }
      },
      "outputs": [],
      "source": [
        "books <- c(\n",
        "  \"Dubliners\",\n",
        "  \"The Picture of Dorian Gray\",\n",
        "  \"Ulysses\",\n",
        "  \"War and Peace\",\n",
        "  \"Normal People\",\n",
        "  \"Crime and Punishment\",\n",
        "  \"Pygmalion\"\n",
        ")"
      ]
    },
    {
      "cell_type": "code",
      "execution_count": 9,
      "id": "90343025-5f26-4690-8aca-468564b70f8c",
      "metadata": {
        "slideshow": {
          "slide_type": "fragment"
        },
        "vscode": {
          "languageId": "r"
        }
      },
      "outputs": [
        {
          "name": "stdout",
          "output_type": "stream",
          "text": [
            "[1] \"The proportion of more than 10 characters is  57 %\"\n",
            "[1] \"Dubliners\"  \"Long Title\" \"Ulysses\"    \"Long Title\" \"Long Title\"\n",
            "[6] \"Long Title\" \"Pygmalion\" \n"
          ]
        }
      ],
      "source": [
        "# Exercise 3:\n",
        "\n",
        "# Your code goes here\n",
        "\n",
        "# Use a loop to mark book titles character > 10 as 1 and <= 10 is 0\n",
        "char_number <- c()\n",
        "for (i in books){\n",
        "  if (nchar(i) > 10) {\n",
        "    char_number <- c(char_number, 1)\n",
        "  } else {\n",
        "    char_number <- c(char_number, 0)\n",
        "  }\n",
        "}\n",
        "\n",
        "# Count and print the mean in second columns, which refers to the proportion\n",
        "print(paste(\"The proportion of more than 10 characters is \",\n",
        "            round(mean(char_number), 2) * 100,\n",
        "            \"%\"))\n",
        "\n",
        "# If the second columns == 1, than replace the first columns into Long Title\n",
        "books_char_number <- cbind(books, char_number)\n",
        "books_char_number[ , 1][books_char_number[ , 2] == 1] <- \"Long Title\"\n",
        "print(books_char_number[ , 1])\n"
      ]
    },
    {
      "cell_type": "markdown",
      "id": "3b3eb85c-3746-496c-8120-d2727440a94b",
      "metadata": {},
      "source": [
        "## Exercise 4: Attributes and Factors\n",
        "\n",
        "Suppose you read in a variable which represents education of survey\n",
        "respondents. After consulting the codebook for this survey you\n",
        "determined that specific values that the variable takes are coded as\n",
        "follows:\n",
        "\n",
        "-   `0` - No formal education\n",
        "-   `1` - Primary Education\n",
        "-   `2` - Secondary Education\n",
        "-   `3` - College Education\n",
        "-   `4` - Post-graduate Education\n",
        "\n",
        "Convert the variable `educ` below into a factor variable with each value\n",
        "coded explicitly as one of the education levels. Tabulate the variable\n",
        "using `table()` function. Change the order of the levels of this factor\n",
        "variable such that the most common education level is the first\n",
        "(baseline/reference) category (you can leave other education levels in\n",
        "their original order). Tabulate the variable again."
      ]
    },
    {
      "cell_type": "code",
      "execution_count": 10,
      "id": "2794acf3-0b8b-4651-bcb5-a914d62077b2",
      "metadata": {
        "slideshow": {
          "slide_type": "fragment"
        },
        "vscode": {
          "languageId": "r"
        }
      },
      "outputs": [],
      "source": [
        "set.seed(2023)\n",
        "educ <- rpois(1000, 2)\n",
        "educ <- ifelse(educ > 4, 4, educ)"
      ]
    },
    {
      "cell_type": "code",
      "execution_count": 11,
      "id": "7f9d042d-19af-444d-b60e-7069d826c862",
      "metadata": {
        "slideshow": {
          "slide_type": "fragment"
        },
        "vscode": {
          "languageId": "r"
        }
      },
      "outputs": [
        {
          "name": "stdout",
          "output_type": "stream",
          "text": [
            "unsorted_educ_with_labels\n",
            "    No Formal Education       Primary Education     Secondary Education \n",
            "                    142                     279                     278 \n",
            "      College Education Post-graduate Education \n",
            "                    171                     130 \n",
            "sorted_educ_with_labels\n",
            "      Primary Education     Secondary Education       College Education \n",
            "                    279                     278                     171 \n",
            "    No Formal Education Post-graduate Education \n",
            "                    142                     130 \n"
          ]
        }
      ],
      "source": [
        "# Exercise 4:\n",
        "\n",
        "# Your code goes here\n",
        "\n",
        "# Factorise educ, and label each value\n",
        "unsorted_educ_with_labels <- factor(educ,\n",
        "                                    levels <- c(0, 1, 2, 3, 4),\n",
        "                                    labels <- c(\"No Formal Education\",\n",
        "                                                \"Primary Education\",\n",
        "                                                \"Secondary Education\",\n",
        "                                                \"College Education\",\n",
        "                                                \"Post-graduate Education\"))\n",
        "table_educ_01 <- table(unsorted_educ_with_labels) # Crate a table about educ\n",
        "print(table_educ_01) # Print the unsorted table with labels\n",
        "\n",
        "# I rewrote these code to make the two output tables have different titles\n",
        "sorted_educ_with_labels <- unsorted_educ_with_labels\n",
        "table_educ_02 <- table(sorted_educ_with_labels) # Create a table about educ\n",
        "# Sorted educ with labels, and reverse the order\n",
        "sorted_table_educ_02 <- table_educ_02[order(table_educ_02, decreasing = TRUE)]\n",
        "print(sorted_table_educ_02) # Print the sorted table with labels\n"
      ]
    },
    {
      "cell_type": "markdown",
      "id": "f8d3baba-03cc-4d34-ab2b-76307b17b909",
      "metadata": {},
      "source": [
        "## Exercise 5: Control Flow\n",
        "\n",
        "[Skewness](https://en.wikipedia.org/wiki/Skewness) is an important\n",
        "concept in data analysis. Many methods of statistical analysis assume\n",
        "that the variables roughly follow a [normal\n",
        "distribution](https://en.wikipedia.org/wiki/Normal_distribution).\n",
        "\n",
        "In this exercise you will need to write R code to determine whether each\n",
        "of the variables is approximately normally distributed and if not,\n",
        "report the direction of skew (left/negative or right/positive). The\n",
        "easiest way to do so is by comparing means and medians of the\n",
        "distribution for each variable.\n",
        "\n",
        "Look at the code below. Each variable is stored as a vector in a list.\n",
        "Use loop(s) and conditional statements to analyse them."
      ]
    },
    {
      "cell_type": "code",
      "execution_count": 12,
      "id": "9347dfb0-1d63-431d-a1c5-6c649cd90940",
      "metadata": {
        "slideshow": {
          "slide_type": "fragment"
        },
        "vscode": {
          "languageId": "r"
        }
      },
      "outputs": [],
      "source": [
        "set.seed(2023)\n",
        "vars <- list(\n",
        "  var1 = rexp(1000),\n",
        "  var2 = rnorm(1000, -2.75, 3),\n",
        "  var3 = rchisq(1000, 2),\n",
        "  var4 = rt(1000, 30),\n",
        "  var5 = rbeta(1000, 5, 2)\n",
        ")"
      ]
    },
    {
      "cell_type": "code",
      "execution_count": 13,
      "id": "c79140e5-f9c0-4c47-9eb1-8c083dd97c03",
      "metadata": {
        "slideshow": {
          "slide_type": "fragment"
        },
        "vscode": {
          "languageId": "r"
        }
      },
      "outputs": [
        {
          "name": "stdout",
          "output_type": "stream",
          "text": [
            "\n",
            "\tShapiro-Wilk normality test\n",
            "\n",
            "data:  i\n",
            "W = 0.82841, p-value < 2.2e-16\n",
            "\n",
            "[1] \"It is not a normal distribution\"\n",
            "[1] \"It is a right skew distribution\"\n",
            "\n",
            "\tShapiro-Wilk normality test\n",
            "\n",
            "data:  i\n",
            "W = 0.9973, p-value = 0.09304\n",
            "\n",
            "[1] \"It is a normal distribution\"\n",
            "\n",
            "\tShapiro-Wilk normality test\n",
            "\n",
            "data:  i\n",
            "W = 0.81597, p-value < 2.2e-16\n",
            "\n",
            "[1] \"It is not a normal distribution\"\n",
            "[1] \"It is a right skew distribution\"\n",
            "\n",
            "\tShapiro-Wilk normality test\n",
            "\n",
            "data:  i\n",
            "W = 0.99644, p-value = 0.02257\n",
            "\n",
            "[1] \"It is not a normal distribution\"\n",
            "[1] \"It is a right skew distribution\"\n",
            "\n",
            "\tShapiro-Wilk normality test\n",
            "\n",
            "data:  i\n",
            "W = 0.9665, p-value = 2.1e-14\n",
            "\n",
            "[1] \"It is not a normal distribution\"\n",
            "[1] \"It is a left skew distribution\"\n"
          ]
        }
      ],
      "source": [
        "# Exercise 5:\n",
        "\n",
        "# Your code goes here\n",
        "\n",
        "# I use shapiro-test to test whether a variable obeys a normal distribution\n",
        "for (i in vars) {\n",
        "  norm_test_results <- shapiro.test(i) # Conduct shapiro-test\n",
        "  print(norm_test_results) # Print the test results\n",
        "\n",
        "  # Below is the shapiro-test hypothesis test progress\n",
        "  # if p-value < 0.05, than it will not be a normal distribution\n",
        "  if (norm_test_results$p.value < 0.05) {\n",
        "    print(\"It is not a normal distribution\")\n",
        "    # if mean < median, it will be a left skew distribution\n",
        "    if (mean(i) < median(i)) {\n",
        "      print(\"It is a left skew distribution\")\n",
        "      # if mean > median, it will be a right skew distribution\n",
        "    } else if (mean(i) > median(i)) {\n",
        "      print(\"It is a right skew distribution\")\n",
        "    }\n",
        "    # If p-value > 0.05, than it will be a normal distribution\n",
        "  } else {\n",
        "    print(\"It is a normal distribution\")\n",
        "  }\n",
        "}\n"
      ]
    }
  ],
  "metadata": {
    "kernelspec": {
      "display_name": "R",
      "language": "R",
      "name": "ir"
    },
    "language_info": {
      "codemirror_mode": "r",
      "file_extension": ".r",
      "mimetype": "text/x-r-source",
      "name": "R",
      "pygments_lexer": "r",
      "version": "4.3.1"
    }
  },
  "nbformat": 4,
  "nbformat_minor": 5
}
