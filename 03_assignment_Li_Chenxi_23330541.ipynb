{
  "cells": [
    {
      "cell_type": "markdown",
      "id": "844b3783-2d61-45b3-8bb7-2fe586855d5e",
      "metadata": {},
      "source": [
        "# POP77001 Assignment 3: Python Fundamentals and Control Flow\n",
        "\n",
        "## Before Submission\n",
        "\n",
        "-   Do not use external libraries unless explicitly specified.\n",
        "-   Make sure that you can run all cells without errors.\n",
        "-   You can do it by clicking `Kernel`, `Restart & Run All` in the menu\n",
        "    above.\n",
        "-   Make sure that you save the output by pressing Command+S / CTRL+S.\n",
        "-   Rename the file from `03_assignment.ipynb` to\n",
        "    `03_assignment_studentnumber_firstname_lastname.ipynb`.\n",
        "-   Use Firefox browser for submitting your Jupyter notebook on\n",
        "    Blackboard.\n",
        "\n",
        "## Exercise 1: Slicing\n",
        "\n",
        "Using only slicing operations create words ‘mile’, ‘one’, ‘ton’ and\n",
        "‘not’ out of the word ‘milestone’. Finally, reverse the order of letters\n",
        "in the word (spell it backwards). Print the results."
      ]
    },
    {
      "cell_type": "code",
      "execution_count": 25,
      "id": "84664884",
      "metadata": {
        "slideshow": {
          "slide_type": "-"
        }
      },
      "outputs": [
        {
          "name": "stdout",
          "output_type": "stream",
          "text": [
            "mile\n",
            "one\n",
            "ton\n",
            "not\n",
            "enotselim\n"
          ]
        }
      ],
      "source": [
        "milestone = 'milestone'\n",
        "\n",
        "# Your code goes here\n",
        "\n",
        "# Slice the word \"mile\"\n",
        "word_mile = milestone[0:4]\n",
        "print(word_mile)\n",
        "\n",
        "# Slice the word \"one\"\n",
        "word_one = milestone[6:9]\n",
        "print(word_one)\n",
        "\n",
        "# Slice the word \"ton\"\n",
        "word_ton = milestone[5:8]\n",
        "print(word_ton)\n",
        "\n",
        "# Slice the word \"not\"\n",
        "# Because \"not\" is the reverse of \"ton\"\n",
        "word_not = word_ton[::-1]\n",
        "print(word_not)\n",
        "\n",
        "# Reverse miletone\n",
        "reverse_miletone = milestone[::-1]\n",
        "print(reverse_miletone)"
      ]
    },
    {
      "cell_type": "markdown",
      "id": "64254eb7-1b01-4fc9-a078-03042d08aac3",
      "metadata": {},
      "source": [
        "## Exercise 2: List Comprehension\n",
        "\n",
        "Using list comprehension modify the list below in such a way that every\n",
        "string with a book title, which has 3 or more words in it, is replaced\n",
        "by an integer representing the number of words (i.e. 3 for *War and\n",
        "Peace*)."
      ]
    },
    {
      "cell_type": "code",
      "execution_count": 53,
      "id": "9d0db581",
      "metadata": {
        "slideshow": {
          "slide_type": "-"
        }
      },
      "outputs": [
        {
          "name": "stdout",
          "output_type": "stream",
          "text": [
            "['Dubliners', 'Ulysses', 3, 'Normal People', 3, 5]\n"
          ]
        }
      ],
      "source": [
        "# Exercise 2:\n",
        "\n",
        "books = [\n",
        "    'Dubliners',\n",
        "    'Ulysses',\n",
        "    'War and Peace',\n",
        "    'Normal People',\n",
        "    'Crime and Punishment',\n",
        "    'The Picture of Dorian Gray'\n",
        "]\n",
        "\n",
        "# Your code goes here\n",
        "\n",
        "new_books = [] # Generate a new list\n",
        "word_counts = 0 # Set a variable to calcuate space amount\n",
        "\n",
        "# Comprehensive list\n",
        "for element in books:\n",
        "\n",
        "    # Calculate the words amount\n",
        "    word_counts = len(element.split())\n",
        "    # If the words amount >= 3\n",
        "    if word_counts >= 3:\n",
        "        new_books.append(word_counts)\n",
        "    # If the words amount < 3\n",
        "    else: new_books.append(element)\n",
        "\n",
        "# Print the results\n",
        "print(new_books)"
      ]
    },
    {
      "cell_type": "markdown",
      "id": "516ffc6c-6069-42f2-a29b-005ae65b98e7",
      "metadata": {},
      "source": [
        "## Exercise 3: Dictionary Comprehension and Iteration\n",
        "\n",
        "Write a dictionary comprehension where each letter of the English\n",
        "alphabet is a key and a value is an empty list. Split the quote below\n",
        "into individual words. Write a loop that populates the previously\n",
        "created dictionary, where each word is assigned to a key according to\n",
        "its first letter (e.g. ‘apple’ to ‘a’). Keep only unique words.\n",
        "\n",
        "Tip: You can use `ascii_lowercase` object from the `string` module for\n",
        "the letters."
      ]
    },
    {
      "cell_type": "code",
      "execution_count": 57,
      "id": "1af98c01",
      "metadata": {
        "slideshow": {
          "slide_type": "-"
        }
      },
      "outputs": [
        {
          "name": "stdout",
          "output_type": "stream",
          "text": [
            "{'a': ['A', 'an', 'aesthetic', 'and', 'as', 'algorithm', 'a'], 'b': ['be'], 'c': ['concepts,', 'communicate', 'convince', 'correct.'], 'd': [], 'e': ['essayist'], 'f': ['forms'], 'g': [], 'h': [], 'i': ['is', 'ideally'], 'j': [], 'k': [], 'l': ['literary'], 'm': ['mathematical'], 'n': [], 'o': [], 'p': ['programmer'], 'q': [], 'r': ['reader', 'results'], 's': [], 't': ['traditional', 'to', 'the', 'that'], 'u': [], 'v': [], 'w': ['who', 'works', 'with', 'well', 'way', 'will'], 'x': [], 'y': [], 'z': []}\n"
          ]
        }
      ],
      "source": [
        "# Exercise 3:\n",
        "\n",
        "quote = '''\n",
        "A programmer is ideally an essayist who works with traditional aesthetic and \n",
        "literary forms as well as mathematical concepts, to communicate the way that \n",
        "an algorithm works and to convince a reader that the results will be correct.\n",
        "'''\n",
        "\n",
        "# Your code goes here\n",
        "\n",
        "# Import the package\n",
        "from string import ascii_lowercase \n",
        "\n",
        "# Create variable quote\n",
        "quote = \"A programmer is ideally an essayist who works with traditional aesthetic and literary forms as well as mathematical concepts, to communicate the way that an algorithm works and to convince a reader that the results will be correct.\"\n",
        "\n",
        "# Create a dictionary, and the key is in ascii_lowercase, and the value is a blank list\n",
        "dic_alphabet = {letter: [] for letter in ascii_lowercase}\n",
        "\n",
        "# Split the quote\n",
        "words = quote.split()\n",
        "\n",
        "# Check the first letter in words\n",
        "for i in words:\n",
        "    first_letter = i[0].lower()\n",
        "    \n",
        "    # Keep only unique words\n",
        "    if i not in dic_alphabet[first_letter]:\n",
        "        dic_alphabet[first_letter].append(i)\n",
        "\n",
        "\n",
        "print(dic_alphabet)\n"
      ]
    },
    {
      "cell_type": "markdown",
      "id": "bfe9a6a7-46fc-4f2d-a7fc-754fe58a0146",
      "metadata": {},
      "source": [
        "## Exercise 4: Code Modularity\n",
        "\n",
        "[Euclidean distance](https://en.wikipedia.org/wiki/Euclidean_distance)\n",
        "between two points gives the length of a line segment between them (as\n",
        "the crow flies distance). It is a very versatile metric, which can be\n",
        "frequently encountered in statistical applications (e.g. matching) and\n",
        "text analysis (document similarity).\n",
        "\n",
        "Below is a snippet of code that implements it for two dimensions. How\n",
        "can its modularity be improved? Change the code to provide a more\n",
        "general solution. Extend it to 3 and further (N) dimensions.\n",
        "\n",
        "Function specification:\n",
        "\n",
        "Function takes 2 arguments:\n",
        "\n",
        "-   `p` - sequence of first point’s coordinates (in 2/3/n dimensions)\n",
        "-   `q` - sequence of second point’s coordinates (in 2/3/n dimensions)\n",
        "\n",
        "Function returns 1 object:\n",
        "\n",
        "-   `dist` - floating-point value representing the Euclidean distance\n",
        "    between the input points\n",
        "\n",
        "Example input → output:\n",
        "\n",
        "-   $[5, 1, 3, 12, 7]$ and $[10, 8, 3, 9, 11]$ → $9.9499$\n",
        "\n",
        "External libraries:\n",
        "\n",
        "-   None"
      ]
    },
    {
      "cell_type": "code",
      "execution_count": 15,
      "id": "a39bde58",
      "metadata": {
        "slideshow": {
          "slide_type": "-"
        }
      },
      "outputs": [
        {
          "data": {
            "text/plain": [
              "9.9499"
            ]
          },
          "execution_count": 15,
          "metadata": {},
          "output_type": "execute_result"
        }
      ],
      "source": [
        "# Exercise 4:\n",
        "\n",
        "# See code below, modify as necessary\n",
        "\n",
        "p = (3, 1)\n",
        "q = (4, 5)\n",
        "\n",
        "x_dist = q[0] - p[0]\n",
        "y_dist = q[1] - p[1]\n",
        "dist = (x_dist**2 + y_dist**2)**(0.5)\n",
        "dist\n",
        "\n",
        "##### How to improve origin code's modularity? #####\n",
        "# If we use def() function, we can improve code's modularity\n",
        "\n",
        "def eudis_calcul(p, q):\n",
        "    \"\"\"\n",
        "    calculate euclidean distance\n",
        "\n",
        "    Parameters:\n",
        "    - p: sequence of first point's coordinates (in 2/3/n dimensions)\n",
        "    - q: sequence of second point's coordinates (in 2/3/n dimensions)\n",
        "\n",
        "    Returns:\n",
        "    - floating-point value representing the Euclidean distance between the input points\n",
        "    \"\"\"\n",
        "    \n",
        "    # Make sure p and q has the same dimension\n",
        "    if len(p) != len(q):\n",
        "        raise ValueError(\"You should input the same dimension between p and q\")\n",
        "\n",
        "    # Calculate the dist\n",
        "    temp = sum(((pi - qi) ** 2) for pi, qi in zip(p,q))\n",
        "    dist = temp ** 0.5\n",
        "\n",
        "    # Keep 4 format after point\n",
        "    dist = round(dist, 4)\n",
        "\n",
        "    return dist\n",
        "\n",
        "# Test the results\n",
        "p = (5, 1, 3, 12, 7)\n",
        "q = (10, 8, 3, 9, 11)\n",
        "\n",
        "ex4_test = eudis_calcul(p, q)\n"
      ]
    },
    {
      "cell_type": "markdown",
      "id": "841dae7d-fd4d-4651-b866-20e55da9e29d",
      "metadata": {},
      "source": [
        "## Exercise 5: Palindrome Problem\n",
        "\n",
        "[Palindrome](https://en.wikipedia.org/wiki/Palindrome) is a word, phrase\n",
        "or number that reads the same way forward and backward (e.g. madam,\n",
        "2021-12-02). Briefly describe the intuition about how to implement it\n",
        "efficiently. Write a function to check whether a string is a palindrome.\n",
        "\n",
        "Function specification:\n",
        "\n",
        "Function takes 1 argument:\n",
        "\n",
        "-   `s` - string that is to be tested\n",
        "\n",
        "Function returns 1 object:\n",
        "\n",
        "-   `True` or `False` - Boolean (logical) value that equals to True if\n",
        "    the string is a palindrome and False otherwise.\n",
        "\n",
        "Example input → output:\n",
        "\n",
        "-   `no lemon, no melon` → `True`\n",
        "-   `no lemon, no watermelon` → `False`\n",
        "-   `2021-12-02` → `True`\n",
        "\n",
        "External libraries:\n",
        "\n",
        "-   None"
      ]
    },
    {
      "cell_type": "code",
      "execution_count": 24,
      "id": "69f2539b",
      "metadata": {
        "slideshow": {
          "slide_type": "-"
        }
      },
      "outputs": [
        {
          "name": "stdout",
          "output_type": "stream",
          "text": [
            "True\n",
            "False\n",
            "True\n"
          ]
        }
      ],
      "source": [
        "# Exercise 5:\n",
        "\n",
        "# Your code go here\n",
        "\n",
        "def palindrome_judge(s):\n",
        "    \"\"\"\n",
        "    To make judgement if a string is a palindrome\n",
        "\n",
        "    Parameters:\n",
        "    - s: an input string\n",
        "\n",
        "    Returns:\n",
        "    - True: This string is a palindrome\n",
        "    - False: This string is not a palindrome\n",
        "    \"\"\"\n",
        "    # Make the string is only combined with words\n",
        "    str_s = \" \".join(i for i in s if i.isalpha())\n",
        "\n",
        "    # Judge if the origin string is the same as reverse one\n",
        "    rev_s = str_s[::-1]\n",
        "    if rev_s == str_s:\n",
        "        judge = True\n",
        "    else: judge = False\n",
        "\n",
        "    return judge\n",
        "\n",
        "# Test the results\n",
        "ex5_test0 = palindrome_judge(\"no lemon, no melon\")\n",
        "print(ex5_test0)\n",
        "ex5_test1 = palindrome_judge(\"no lemon, no watermelon\")\n",
        "print(ex5_test1)\n",
        "ex5_test2 = palindrome_judge(\"2021-12-02\")\n",
        "print(ex5_test2)\n"
      ]
    }
  ],
  "metadata": {
    "kernelspec": {
      "display_name": "Python 3",
      "language": "python",
      "name": "python3"
    },
    "language_info": {
      "codemirror_mode": {
        "name": "ipython",
        "version": 3
      },
      "file_extension": ".py",
      "mimetype": "text/x-python",
      "name": "python",
      "nbconvert_exporter": "python",
      "pygments_lexer": "ipython3",
      "version": "3.11.3"
    }
  },
  "nbformat": 4,
  "nbformat_minor": 5
}
